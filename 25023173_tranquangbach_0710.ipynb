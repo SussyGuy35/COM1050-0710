{
 "cells": [
  {
   "cell_type": "markdown",
   "id": "bf15e361",
   "metadata": {},
   "source": [
    "# W3A2"
   ]
  },
  {
   "cell_type": "code",
   "execution_count": 2,
   "id": "9420758f",
   "metadata": {},
   "outputs": [
    {
     "name": "stdout",
     "output_type": "stream",
     "text": [
      "63\n",
      "36\n"
     ]
    }
   ],
   "source": [
    "a = int(input())\n",
    "b = int(input())\n",
    "\n",
    "a = a^b\n",
    "b = a^b\n",
    "a = a^b\n",
    "\n",
    "print(a)\n",
    "print(b)"
   ]
  },
  {
   "cell_type": "markdown",
   "id": "d8f17e60",
   "metadata": {},
   "source": [
    "# W3A3"
   ]
  },
  {
   "cell_type": "code",
   "execution_count": 1,
   "id": "0a6ab93e",
   "metadata": {},
   "outputs": [
    {
     "name": "stdout",
     "output_type": "stream",
     "text": [
      "16 la mot luy thua cua 2\n"
     ]
    }
   ],
   "source": [
    "n = int(input(\"Nhap mot so: \"))\n",
    "if n & (n-1) == 0:\n",
    "    print(f\"{n} la mot luy thua cua 2\")\n",
    "else:\n",
    "    print(f\"{n} khong phai mot luy thua cua 2\")"
   ]
  },
  {
   "cell_type": "markdown",
   "id": "2426ab8b",
   "metadata": {},
   "source": [
    "# W3A4"
   ]
  },
  {
   "cell_type": "code",
   "execution_count": null,
   "id": "f1d5db1d",
   "metadata": {},
   "outputs": [
    {
     "name": "stdout",
     "output_type": "stream",
     "text": [
      "2\n"
     ]
    }
   ],
   "source": [
    "m = int(input(\"m:\"))\n",
    "n = int(input(\"n:\"))\n",
    "\n",
    "print(m//n)"
   ]
  },
  {
   "cell_type": "markdown",
   "id": "f1eee5a7",
   "metadata": {},
   "source": [
    "# W3A5"
   ]
  },
  {
   "cell_type": "code",
   "execution_count": 4,
   "id": "a9382a6f",
   "metadata": {},
   "outputs": [
    {
     "name": "stdout",
     "output_type": "stream",
     "text": [
      "3\n"
     ]
    }
   ],
   "source": [
    "import math\n",
    "\n",
    "m = int(input(\"m:\"))\n",
    "n = int(input(\"n:\"))\n",
    "\n",
    "print(math.ceil(m/n))"
   ]
  },
  {
   "cell_type": "markdown",
   "id": "034c10cc",
   "metadata": {},
   "source": [
    "# W3A6"
   ]
  },
  {
   "cell_type": "code",
   "execution_count": 5,
   "id": "b7dc91db",
   "metadata": {},
   "outputs": [
    {
     "name": "stdout",
     "output_type": "stream",
     "text": [
      "Even\n"
     ]
    }
   ],
   "source": [
    "x = int(input(\"x=\"))\n",
    "\n",
    "if x%2==0:\n",
    "    print(\"Even\")\n",
    "else:\n",
    "    print(\"Odd\")"
   ]
  },
  {
   "cell_type": "markdown",
   "id": "49fa3022",
   "metadata": {},
   "source": [
    "# W3A7"
   ]
  },
  {
   "cell_type": "code",
   "execution_count": 6,
   "id": "6b7e3516",
   "metadata": {},
   "outputs": [
    {
     "name": "stdout",
     "output_type": "stream",
     "text": [
      "Yes\n"
     ]
    }
   ],
   "source": [
    "a = int(input(\"a=\"))\n",
    "b = int(input(\"b=\"))\n",
    "\n",
    "if a<0 and b<0 :\n",
    "    print(\"Yes\")\n",
    "else:\n",
    "    print(\"No\")\n"
   ]
  },
  {
   "cell_type": "markdown",
   "id": "58f63cb4",
   "metadata": {},
   "source": [
    "# W3A8"
   ]
  },
  {
   "cell_type": "code",
   "execution_count": 7,
   "id": "e9531dfe",
   "metadata": {},
   "outputs": [
    {
     "name": "stdout",
     "output_type": "stream",
     "text": [
      "No\n"
     ]
    }
   ],
   "source": [
    "a = input(\"a:\")\n",
    "b = input(\"b:\")\n",
    "\n",
    "print(\"Yes\" if len(a) > len(b) else \"No\")"
   ]
  },
  {
   "cell_type": "markdown",
   "id": "d7ab099f",
   "metadata": {},
   "source": [
    "# W3A9"
   ]
  },
  {
   "cell_type": "code",
   "execution_count": 8,
   "id": "7eca46ae",
   "metadata": {},
   "outputs": [
    {
     "name": "stdout",
     "output_type": "stream",
     "text": [
      "Yes\n"
     ]
    }
   ],
   "source": [
    "a = int(input(\"a=\"))\n",
    "b = int(input(\"b=\"))\n",
    "c = int(input(\"c=\"))\n",
    "\n",
    "if a+b>c and a+c>b and b+c>a:\n",
    "    print(\"Yes\")\n",
    "else:\n",
    "    print(\"No\")"
   ]
  },
  {
   "cell_type": "markdown",
   "id": "86fd3020",
   "metadata": {},
   "source": [
    "# W3A10"
   ]
  },
  {
   "cell_type": "code",
   "execution_count": 9,
   "id": "eaace470",
   "metadata": {},
   "outputs": [
    {
     "name": "stdout",
     "output_type": "stream",
     "text": [
      "36\n"
     ]
    }
   ],
   "source": [
    "a = list(map(int, input(\"Nhap 4 so nguyen: \").split()))\n",
    "\n",
    "print(max(a))"
   ]
  },
  {
   "cell_type": "markdown",
   "id": "fb3072d1",
   "metadata": {},
   "source": [
    "# W3A11"
   ]
  },
  {
   "cell_type": "code",
   "execution_count": 13,
   "id": "c433b353",
   "metadata": {},
   "outputs": [
    {
     "name": "stdout",
     "output_type": "stream",
     "text": [
      "Tam giac thuong\n"
     ]
    }
   ],
   "source": [
    "a = int(input(\"a=\"))\n",
    "b = int(input(\"b=\"))\n",
    "c = int(input(\"c=\"))\n",
    "\n",
    "def abc(a,b,c):\n",
    "    if a+b>c and a+c>b and b+c>a:\n",
    "        if a==b==c:\n",
    "            print(\"Tam giac deu\")\n",
    "            return\n",
    "        if a==b or b==c or c==a:\n",
    "            print(\"Tam gia can\")    \n",
    "            return\n",
    "        print(\"Tam giac thuong\")\n",
    "        return\n",
    "    print(\"Khong phai tam giac\")\n",
    "\n",
    "abc(a,b,c)"
   ]
  },
  {
   "cell_type": "markdown",
   "id": "cacf4bce",
   "metadata": {},
   "source": [
    "# W3A12"
   ]
  },
  {
   "cell_type": "code",
   "execution_count": 14,
   "id": "70286bc6",
   "metadata": {},
   "outputs": [
    {
     "name": "stdout",
     "output_type": "stream",
     "text": [
      "Yes\n"
     ]
    }
   ],
   "source": [
    "y = int(input(\"Nhap so nam: \"))\n",
    "\n",
    "if (y%4==0 and y%100!=0) or y%400==0:\n",
    "    print(\"Yes\")\n",
    "else:\n",
    "    print(\"No\")"
   ]
  },
  {
   "cell_type": "markdown",
   "id": "c30ad4f6",
   "metadata": {},
   "source": [
    "# W3A14"
   ]
  },
  {
   "cell_type": "code",
   "execution_count": 15,
   "id": "e72f89d1",
   "metadata": {},
   "outputs": [
    {
     "name": "stdout",
     "output_type": "stream",
     "text": [
      "-1.67\n"
     ]
    }
   ],
   "source": [
    "a = float(input(\"a=\"))\n",
    "b = float(input(\"b=\"))\n",
    "\n",
    "if a == 0:\n",
    "    if b == 0:\n",
    "        print(\"Vo so nghiem\")\n",
    "    else:\n",
    "        print(\"Vo nghiem\")\n",
    "\n",
    "else:\n",
    "    print(f\"{-b/a:.2f}\")"
   ]
  },
  {
   "cell_type": "markdown",
   "id": "2a6d0858",
   "metadata": {},
   "source": [
    "# W3A15"
   ]
  },
  {
   "cell_type": "code",
   "execution_count": 17,
   "id": "0bba5454",
   "metadata": {},
   "outputs": [
    {
     "name": "stdout",
     "output_type": "stream",
     "text": [
      "Hoc luc: Yeu\n"
     ]
    }
   ],
   "source": [
    "a = float(input(\"Nhap diem trung binh\"))\n",
    "\n",
    "def abc(a):\n",
    "    if a>=8:\n",
    "        return \"Gioi\"\n",
    "    if a>=6.5:\n",
    "        return \"Kha\"\n",
    "    if a>=5.0:\n",
    "        return \"Trung binh\"\n",
    "    return \"Yeu\"\n",
    "\n",
    "print(f\"Hoc luc: {abc(a)}\")"
   ]
  },
  {
   "cell_type": "markdown",
   "id": "038e3c21",
   "metadata": {},
   "source": [
    "# W3A16"
   ]
  },
  {
   "cell_type": "code",
   "execution_count": 22,
   "id": "3da0550e",
   "metadata": {},
   "outputs": [
    {
     "name": "stdout",
     "output_type": "stream",
     "text": [
      "3 4 4\n"
     ]
    }
   ],
   "source": [
    "a = float(input(\"Nhap so thuc: \"))\n",
    "\n",
    "b = int(a)\n",
    "c = int(a) if int(a) == a else int(a)+1\n",
    "\n",
    "if abs(a-b) < abs(a-c):\n",
    "    d = b\n",
    "else:\n",
    "    d = c\n",
    "\n",
    "print(f\"{b} {c} {d}\")\n",
    "\n"
   ]
  }
 ],
 "metadata": {
  "kernelspec": {
   "display_name": "Python 3",
   "language": "python",
   "name": "python3"
  },
  "language_info": {
   "codemirror_mode": {
    "name": "ipython",
    "version": 3
   },
   "file_extension": ".py",
   "mimetype": "text/x-python",
   "name": "python",
   "nbconvert_exporter": "python",
   "pygments_lexer": "ipython3",
   "version": "3.13.7"
  }
 },
 "nbformat": 4,
 "nbformat_minor": 5
}
